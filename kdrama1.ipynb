{
 "cells": [
  {
   "cell_type": "code",
   "execution_count": 1,
   "id": "53221a0c-bc30-49a2-9df5-7bc909ddd65a",
   "metadata": {},
   "outputs": [
    {
     "data": {
      "text/html": [
       "<div>\n",
       "<style scoped>\n",
       "    .dataframe tbody tr th:only-of-type {\n",
       "        vertical-align: middle;\n",
       "    }\n",
       "\n",
       "    .dataframe tbody tr th {\n",
       "        vertical-align: top;\n",
       "    }\n",
       "\n",
       "    .dataframe thead th {\n",
       "        text-align: right;\n",
       "    }\n",
       "</style>\n",
       "<table border=\"1\" class=\"dataframe\">\n",
       "  <thead>\n",
       "    <tr style=\"text-align: right;\">\n",
       "      <th></th>\n",
       "      <th>Name</th>\n",
       "      <th>Synopsis</th>\n",
       "      <th>Genre</th>\n",
       "      <th>Poster Path</th>\n",
       "    </tr>\n",
       "  </thead>\n",
       "  <tbody>\n",
       "    <tr>\n",
       "      <th>0</th>\n",
       "      <td>Move to Heaven</td>\n",
       "      <td>Geu Roo is a young autistic man. He works for ...</td>\n",
       "      <td>Life,  Drama,  Family</td>\n",
       "      <td>https://image.tmdb.org/t/p/original/n277gYwCQO...</td>\n",
       "    </tr>\n",
       "    <tr>\n",
       "      <th>1</th>\n",
       "      <td>Flower of Evil</td>\n",
       "      <td>Although Baek Hee Sung is hiding a dark secret...</td>\n",
       "      <td>Thriller,  Romance,  Crime,  Melodrama</td>\n",
       "      <td>https://m.media-amazon.com/images/M/MV5BMzY2NT...</td>\n",
       "    </tr>\n",
       "    <tr>\n",
       "      <th>2</th>\n",
       "      <td>Hospital Playlist</td>\n",
       "      <td>The stories of people going through their days...</td>\n",
       "      <td>Friendship,  Romance,  Life,  Medical</td>\n",
       "      <td>https://image.tmdb.org/t/p/original/wJJJZf9HKM...</td>\n",
       "    </tr>\n",
       "    <tr>\n",
       "      <th>3</th>\n",
       "      <td>Hospital Playlist 2</td>\n",
       "      <td>Everyday is extraordinary for five doctors and...</td>\n",
       "      <td>Friendship,  Romance,  Life,  Medical</td>\n",
       "      <td>https://i.mydramalist.com/dKY0d_4f.jpg</td>\n",
       "    </tr>\n",
       "    <tr>\n",
       "      <th>4</th>\n",
       "      <td>My Mister</td>\n",
       "      <td>Park Dong Hoon is a middle-aged engineer who i...</td>\n",
       "      <td>Psychological,  Life,  Drama,  Family</td>\n",
       "      <td>https://m.media-amazon.com/images/M/MV5BZjkzNm...</td>\n",
       "    </tr>\n",
       "    <tr>\n",
       "      <th>...</th>\n",
       "      <td>...</td>\n",
       "      <td>...</td>\n",
       "      <td>...</td>\n",
       "      <td>...</td>\n",
       "    </tr>\n",
       "    <tr>\n",
       "      <th>100</th>\n",
       "      <td>When the Camellia Blooms</td>\n",
       "      <td>Woo Seo Ri, a violin prodigy at 17 who was abo...</td>\n",
       "      <td>Thriller,  Comedy,  Romance,  Drama,  Family</td>\n",
       "      <td>https://image.tmdb.org/t/p/original/9AUMDkXjCh...</td>\n",
       "    </tr>\n",
       "    <tr>\n",
       "      <th>101</th>\n",
       "      <td>Extracurricular</td>\n",
       "      <td>A high school becomes ground zero for a zombie...</td>\n",
       "      <td>Psychological, Crime, Youth, Drama</td>\n",
       "      <td>https://i.pinimg.com/474x/43/a9/8a/43a98a86fbd...</td>\n",
       "    </tr>\n",
       "    <tr>\n",
       "      <th>102</th>\n",
       "      <td>Doctor Prisoner</td>\n",
       "      <td>The idealistic Choi In Ha has her work cut out...</td>\n",
       "      <td>Thriller, Law, Crime, Medical</td>\n",
       "      <td>https://m.media-amazon.com/images/M/MV5BODIxMG...</td>\n",
       "    </tr>\n",
       "    <tr>\n",
       "      <th>103</th>\n",
       "      <td>Psychopath Diary</td>\n",
       "      <td>Jeon Nok Du lives on an island with his father...</td>\n",
       "      <td>Thriller, Mystery, Comedy, Crime</td>\n",
       "      <td>https://m.media-amazon.com/images/M/MV5BYTA4Yj...</td>\n",
       "    </tr>\n",
       "    <tr>\n",
       "      <th>104</th>\n",
       "      <td>City Hunter</td>\n",
       "      <td>Two people have been friends for two decades, ...</td>\n",
       "      <td>Action, Thriller, Crime</td>\n",
       "      <td>https://i.pinimg.com/474x/22/3b/38/223b38f759e...</td>\n",
       "    </tr>\n",
       "  </tbody>\n",
       "</table>\n",
       "<p>105 rows × 4 columns</p>\n",
       "</div>"
      ],
      "text/plain": [
       "                         Name  \\\n",
       "0              Move to Heaven   \n",
       "1              Flower of Evil   \n",
       "2           Hospital Playlist   \n",
       "3         Hospital Playlist 2   \n",
       "4                   My Mister   \n",
       "..                        ...   \n",
       "100  When the Camellia Blooms   \n",
       "101           Extracurricular   \n",
       "102           Doctor Prisoner   \n",
       "103          Psychopath Diary   \n",
       "104               City Hunter   \n",
       "\n",
       "                                              Synopsis  \\\n",
       "0    Geu Roo is a young autistic man. He works for ...   \n",
       "1    Although Baek Hee Sung is hiding a dark secret...   \n",
       "2    The stories of people going through their days...   \n",
       "3    Everyday is extraordinary for five doctors and...   \n",
       "4    Park Dong Hoon is a middle-aged engineer who i...   \n",
       "..                                                 ...   \n",
       "100  Woo Seo Ri, a violin prodigy at 17 who was abo...   \n",
       "101  A high school becomes ground zero for a zombie...   \n",
       "102  The idealistic Choi In Ha has her work cut out...   \n",
       "103  Jeon Nok Du lives on an island with his father...   \n",
       "104  Two people have been friends for two decades, ...   \n",
       "\n",
       "                                             Genre  \\\n",
       "0                           Life,  Drama,  Family    \n",
       "1          Thriller,  Romance,  Crime,  Melodrama    \n",
       "2           Friendship,  Romance,  Life,  Medical    \n",
       "3           Friendship,  Romance,  Life,  Medical    \n",
       "4           Psychological,  Life,  Drama,  Family    \n",
       "..                                             ...   \n",
       "100  Thriller,  Comedy,  Romance,  Drama,  Family    \n",
       "101             Psychological, Crime, Youth, Drama   \n",
       "102                  Thriller, Law, Crime, Medical   \n",
       "103               Thriller, Mystery, Comedy, Crime   \n",
       "104                        Action, Thriller, Crime   \n",
       "\n",
       "                                           Poster Path  \n",
       "0    https://image.tmdb.org/t/p/original/n277gYwCQO...  \n",
       "1    https://m.media-amazon.com/images/M/MV5BMzY2NT...  \n",
       "2    https://image.tmdb.org/t/p/original/wJJJZf9HKM...  \n",
       "3               https://i.mydramalist.com/dKY0d_4f.jpg  \n",
       "4    https://m.media-amazon.com/images/M/MV5BZjkzNm...  \n",
       "..                                                 ...  \n",
       "100  https://image.tmdb.org/t/p/original/9AUMDkXjCh...  \n",
       "101  https://i.pinimg.com/474x/43/a9/8a/43a98a86fbd...  \n",
       "102  https://m.media-amazon.com/images/M/MV5BODIxMG...  \n",
       "103  https://m.media-amazon.com/images/M/MV5BYTA4Yj...  \n",
       "104  https://i.pinimg.com/474x/22/3b/38/223b38f759e...  \n",
       "\n",
       "[105 rows x 4 columns]"
      ]
     },
     "execution_count": 1,
     "metadata": {},
     "output_type": "execute_result"
    }
   ],
   "source": [
    "import pandas as pd\n",
    "dfk=pd.read_csv('kdrama1 final.csv', encoding='ISO-8859-1')\n",
    "dfk"
   ]
  },
  {
   "cell_type": "code",
   "execution_count": 3,
   "id": "5312163b-7331-4255-9193-00a08575be64",
   "metadata": {},
   "outputs": [
    {
     "data": {
      "text/plain": [
       "0                             Life,  Drama,  Family \n",
       "1            Thriller,  Romance,  Crime,  Melodrama \n",
       "2             Friendship,  Romance,  Life,  Medical \n",
       "3             Friendship,  Romance,  Life,  Medical \n",
       "4             Psychological,  Life,  Drama,  Family \n",
       "                           ...                      \n",
       "100    Thriller,  Comedy,  Romance,  Drama,  Family \n",
       "101               Psychological, Crime, Youth, Drama\n",
       "102                    Thriller, Law, Crime, Medical\n",
       "103                 Thriller, Mystery, Comedy, Crime\n",
       "104                          Action, Thriller, Crime\n",
       "Name: combined_features, Length: 105, dtype: object"
      ]
     },
     "execution_count": 3,
     "metadata": {},
     "output_type": "execute_result"
    }
   ],
   "source": [
    "dfk['combined_features']=dfk['Genre']\n",
    "dfk['combined_features']"
   ]
  },
  {
   "cell_type": "code",
   "execution_count": 5,
   "id": "f0cb69ff-ea7f-4931-9a30-3603a513304f",
   "metadata": {},
   "outputs": [],
   "source": [
    "from sklearn.feature_extraction.text import CountVectorizer\n",
    "cvk=CountVectorizer(max_features=10000, stop_words='english')\n",
    "ck=cvk.fit_transform(dfk['combined_features'].values.astype('U')).toarray()"
   ]
  },
  {
   "cell_type": "code",
   "execution_count": 6,
   "id": "8ec44550-7ba3-4673-b404-e6c49f3936b0",
   "metadata": {},
   "outputs": [
    {
     "data": {
      "text/plain": [
       "(105, 27)"
      ]
     },
     "execution_count": 6,
     "metadata": {},
     "output_type": "execute_result"
    }
   ],
   "source": [
    "ck.shape"
   ]
  },
  {
   "cell_type": "code",
   "execution_count": 7,
   "id": "eaab1666-948f-4450-a08f-8426926dd555",
   "metadata": {},
   "outputs": [
    {
     "data": {
      "text/plain": [
       "array([[1.        , 0.        , 0.28867513, ..., 0.        , 0.        ,\n",
       "        0.        ],\n",
       "       [0.        , 1.        , 0.25      , ..., 0.5       , 0.5       ,\n",
       "        0.57735027],\n",
       "       [0.28867513, 0.25      , 1.        , ..., 0.25      , 0.        ,\n",
       "        0.        ],\n",
       "       ...,\n",
       "       [0.        , 0.5       , 0.25      , ..., 1.        , 0.5       ,\n",
       "        0.57735027],\n",
       "       [0.        , 0.5       , 0.        , ..., 0.5       , 1.        ,\n",
       "        0.57735027],\n",
       "       [0.        , 0.57735027, 0.        , ..., 0.57735027, 0.57735027,\n",
       "        1.        ]])"
      ]
     },
     "execution_count": 7,
     "metadata": {},
     "output_type": "execute_result"
    }
   ],
   "source": [
    "from sklearn.metrics.pairwise import cosine_similarity\n",
    "similarity=cosine_similarity(ck)\n",
    "similarity"
   ]
  },
  {
   "cell_type": "code",
   "execution_count": 8,
   "id": "0ff8813f-24b5-4a0f-9956-3ac083a86493",
   "metadata": {},
   "outputs": [
    {
     "data": {
      "text/plain": [
       "np.int64(1)"
      ]
     },
     "execution_count": 8,
     "metadata": {},
     "output_type": "execute_result"
    }
   ],
   "source": [
    "idx=dfk[dfk['Name']==\"Flower of Evil\"].index[0]\n",
    "idx"
   ]
  },
  {
   "cell_type": "code",
   "execution_count": 10,
   "id": "87bcf0a9-0876-4784-a5d5-dd77604e056d",
   "metadata": {},
   "outputs": [
    {
     "name": "stdout",
     "output_type": "stream",
     "text": [
      "My Name\n",
      "Cruel City\n",
      "City Hunter\n",
      "Twenty-Five Twenty-One\n",
      "The Red Sleeve\n"
     ]
    }
   ],
   "source": [
    "import random\n",
    "distance = sorted(list(enumerate(similarity[idx])), reverse=True, key=lambda vector:vector[1])\n",
    "# \n",
    "unique_et = []  #list\n",
    "for i in distance[1:10]:  # Skip the first one (itself) and take the next 9\n",
    "    et_name = dfk.iloc[i[0]].Name\n",
    "    if et_name not in unique_et:  # Ensure uniqueness\n",
    "        unique_et.append(et_name)\n",
    "\n",
    "# Shuffle the unique movie names\n",
    "random.shuffle(unique_et)\n",
    "for i in unique_et[:5]:\n",
    "    print(i)"
   ]
  },
  {
   "cell_type": "code",
   "execution_count": null,
   "id": "a2e3b635-bedb-48c0-8e71-e5e51a21d3af",
   "metadata": {},
   "outputs": [],
   "source": []
  }
 ],
 "metadata": {
  "kernelspec": {
   "display_name": "Python 3 (ipykernel)",
   "language": "python",
   "name": "python3"
  },
  "language_info": {
   "codemirror_mode": {
    "name": "ipython",
    "version": 3
   },
   "file_extension": ".py",
   "mimetype": "text/x-python",
   "name": "python",
   "nbconvert_exporter": "python",
   "pygments_lexer": "ipython3",
   "version": "3.12.4"
  }
 },
 "nbformat": 4,
 "nbformat_minor": 5
}
